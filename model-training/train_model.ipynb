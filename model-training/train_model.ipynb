{
  "cells": [
    {
      "cell_type": "code",
      "execution_count": 1,
      "metadata": {
        "colab": {
          "base_uri": "https://localhost:8080/"
        },
        "id": "fquCtN1lwu3r",
        "outputId": "74c31209-62c6-4de7-895b-c4e2e8c11fbb"
      },
      "outputs": [
        {
          "name": "stdout",
          "output_type": "stream",
          "text": [
            "Requirement already satisfied: yt-dlp in /usr/local/lib/python3.10/dist-packages (2023.10.7)\n",
            "Requirement already satisfied: mutagen in /usr/local/lib/python3.10/dist-packages (from yt-dlp) (1.47.0)\n",
            "Requirement already satisfied: pycryptodomex in /usr/local/lib/python3.10/dist-packages (from yt-dlp) (3.19.0)\n",
            "Requirement already satisfied: websockets in /usr/local/lib/python3.10/dist-packages (from yt-dlp) (11.0.3)\n",
            "Requirement already satisfied: certifi in /usr/local/lib/python3.10/dist-packages (from yt-dlp) (2023.7.22)\n",
            "Requirement already satisfied: brotli in /usr/local/lib/python3.10/dist-packages (from yt-dlp) (1.1.0)\n"
          ]
        }
      ],
      "source": [
        "%pip install yt-dlp"
      ]
    },
    {
      "cell_type": "code",
      "execution_count": 2,
      "metadata": {
        "colab": {
          "base_uri": "https://localhost:8080/"
        },
        "id": "2fDFC2SBq96b",
        "outputId": "f9fba3a9-20d0-4ccb-d703-d164ffca6b9f"
      },
      "outputs": [
        {
          "name": "stdout",
          "output_type": "stream",
          "text": [
            "Drive already mounted at /content/drive; to attempt to forcibly remount, call drive.mount(\"/content/drive\", force_remount=True).\n"
          ]
        }
      ],
      "source": [
        "\n",
        "import os\n",
        "import tensorflow as tf\n",
        "import numpy as np\n",
        "import yt_dlp as yt_dlp\n",
        "import cv2\n",
        "import json\n",
        "from tensorflow.keras.preprocessing import image\n",
        "from tensorflow.keras.applications.vgg16 import preprocess_input\n",
        "from sklearn.model_selection import train_test_split\n",
        "from sklearn.preprocessing import LabelEncoder\n",
        "from tensorflow.keras.utils import to_categorical\n",
        "from tensorflow.keras.layers import Input, TimeDistributed, Conv2D, Flatten, LSTM, Dense\n",
        "from tensorflow.keras.models import Model\n",
        "from tensorflow.keras.applications.vgg16 import VGG16\n",
        "from tensorflow.keras.applications.vgg16 import preprocess_input\n",
        "\n",
        "\n",
        "from google.colab import drive\n",
        "drive.mount('/content/drive')\n",
        "\n",
        "with open('/content/drive/My Drive/Colab Notebooks/MS-ASL/MSASL_train.json', 'r') as file:\n",
        "    train_data = json.load(file)"
      ]
    },
    {
      "cell_type": "code",
      "execution_count": 3,
      "metadata": {
        "id": "YDW73gSG0VR3"
      },
      "outputs": [],
      "source": [
        "def download_clip(url, output_filename):\n",
        "    ydl_opts = {\n",
        "        'format': 'bestvideo[ext=mp4]',  # This ensures mp4 format is downloaded\n",
        "        'outtmpl': output_filename,\n",
        "        'postprocessors': [{\n",
        "            'key': 'FFmpegVideoConvertor',\n",
        "            'preferedformat': 'mp4',\n",
        "        }],\n",
        "    }\n",
        "\n",
        "    with yt_dlp.YoutubeDL(ydl_opts) as ydl:\n",
        "        ydl.download([url])"
      ]
    },
    {
      "cell_type": "code",
      "execution_count": 4,
      "metadata": {
        "id": "85UqAa5r0bk1"
      },
      "outputs": [],
      "source": [
        "def extract_frames(video_path):\n",
        "    cap = cv2.VideoCapture(video_path)\n",
        "    total_frames = int(cap.get(cv2.CAP_PROP_FRAME_COUNT))\n",
        "\n",
        "    frames = []\n",
        "    for i in range(total_frames):\n",
        "        ret, frame = cap.read()\n",
        "        if ret:\n",
        "            frames.append(frame)\n",
        "\n",
        "    cap.release()\n",
        "    return frames\n"
      ]
    },
    {
      "cell_type": "code",
      "execution_count": null,
      "metadata": {
        "colab": {
          "base_uri": "https://localhost:8080/"
        },
        "id": "Xhu60BYg0bo6",
        "outputId": "faf73f01-a259-4ebc-9738-e93bcc357def"
      },
      "outputs": [
        {
          "name": "stdout",
          "output_type": "stream",
          "text": [
            "[youtube] Extracting URL: https://www.youtube.com/watch?v=C37R_Ix8-qs\n",
            "[youtube] C37R_Ix8-qs: Downloading webpage\n",
            "[youtube] C37R_Ix8-qs: Downloading ios player API JSON\n",
            "[youtube] C37R_Ix8-qs: Downloading android player API JSON\n",
            "[youtube] C37R_Ix8-qs: Downloading m3u8 information\n",
            "[info] C37R_Ix8-qs: Downloading 1 format(s): 137\n",
            "[download] video_0.mp4 has already been downloaded\n",
            "[download] 100% of  417.79KiB\n",
            "[VideoConvertor] Not converting media file \"video_0.mp4\"; already is in target format mp4\n",
            "Successfully downloaded video 0 from URL: https://www.youtube.com/watch?v=C37R_Ix8-qs\n",
            "Extracted 85 frames from video 0.\n",
            "[youtube] Extracting URL: https://www.youtube.com/watch?v=PIsUJl8BN_I\n",
            "[youtube] PIsUJl8BN_I: Downloading webpage\n",
            "[youtube] PIsUJl8BN_I: Downloading ios player API JSON\n",
            "[youtube] PIsUJl8BN_I: Downloading android player API JSON\n",
            "[youtube] PIsUJl8BN_I: Downloading m3u8 information\n",
            "[info] PIsUJl8BN_I: Downloading 1 format(s): 135\n",
            "[download] video_1.mp4 has already been downloaded\n",
            "[download] 100% of  112.92KiB\n",
            "[VideoConvertor] Not converting media file \"video_1.mp4\"; already is in target format mp4\n",
            "Successfully downloaded video 1 from URL: https://www.youtube.com/watch?v=PIsUJl8BN_I\n",
            "Extracted 76 frames from video 1.\n",
            "[generic] Extracting URL: www.youtube.com/watch?v=9FdHlMOnVjg\n"
          ]
        },
        {
          "name": "stderr",
          "output_type": "stream",
          "text": [
            "WARNING: [generic] The url doesn't specify the protocol, trying with http\n"
          ]
        },
        {
          "name": "stdout",
          "output_type": "stream",
          "text": [
            "[youtube] Extracting URL: http://www.youtube.com/watch?v=9FdHlMOnVjg\n",
            "[youtube] 9FdHlMOnVjg: Downloading webpage\n",
            "[youtube] 9FdHlMOnVjg: Downloading ios player API JSON\n",
            "[youtube] 9FdHlMOnVjg: Downloading android player API JSON\n"
          ]
        },
        {
          "name": "stderr",
          "output_type": "stream",
          "text": [
            "ERROR: [youtube] 9FdHlMOnVjg: Private video. Sign in if you've been granted access to this video\n"
          ]
        },
        {
          "name": "stdout",
          "output_type": "stream",
          "text": [
            "[youtube] Extracting URL: https://www.youtube.com/watch?v=J7tP98oDxqE\n",
            "[youtube] J7tP98oDxqE: Downloading webpage\n",
            "[youtube] J7tP98oDxqE: Downloading ios player API JSON\n",
            "[youtube] J7tP98oDxqE: Downloading android player API JSON\n",
            "[youtube] J7tP98oDxqE: Downloading m3u8 information\n",
            "[youtube] J7tP98oDxqE: Downloading MPD manifest\n",
            "[info] J7tP98oDxqE: Downloading 1 format(s): 135\n",
            "[download] video_3.mp4 has already been downloaded\n",
            "[download] 100% of   81.88KiB\n",
            "[VideoConvertor] Not converting media file \"video_3.mp4\"; already is in target format mp4\n",
            "Successfully downloaded video 3 from URL: https://www.youtube.com/watch?v=J7tP98oDxqE\n",
            "Extracted 68 frames from video 3.\n",
            "[generic] Extracting URL: www.youtube.com/watch?v=N2mG9ZKjrGA\n"
          ]
        },
        {
          "name": "stderr",
          "output_type": "stream",
          "text": [
            "WARNING: [generic] The url doesn't specify the protocol, trying with http\n"
          ]
        },
        {
          "name": "stdout",
          "output_type": "stream",
          "text": [
            "[youtube] Extracting URL: http://www.youtube.com/watch?v=N2mG9ZKjrGA\n",
            "[youtube] N2mG9ZKjrGA: Downloading webpage\n",
            "[youtube] N2mG9ZKjrGA: Downloading ios player API JSON\n",
            "[youtube] N2mG9ZKjrGA: Downloading android player API JSON\n",
            "[youtube] N2mG9ZKjrGA: Downloading m3u8 information\n",
            "[info] N2mG9ZKjrGA: Downloading 1 format(s): 137\n",
            "[download] video_4.mp4 has already been downloaded\n",
            "[download] 100% of  400.60KiB\n",
            "[VideoConvertor] Not converting media file \"video_4.mp4\"; already is in target format mp4\n",
            "Successfully downloaded video 4 from URL: www.youtube.com/watch?v=N2mG9ZKjrGA\n",
            "Extracted 77 frames from video 4.\n",
            "[youtube] Extracting URL: https://www.youtube.com/watch?v=1AyT77LqJzQ\n",
            "[youtube] 1AyT77LqJzQ: Downloading webpage\n",
            "[youtube] 1AyT77LqJzQ: Downloading ios player API JSON\n",
            "[youtube] 1AyT77LqJzQ: Downloading android player API JSON\n"
          ]
        },
        {
          "name": "stderr",
          "output_type": "stream",
          "text": [
            "ERROR: [youtube] 1AyT77LqJzQ: Video unavailable\n"
          ]
        },
        {
          "name": "stdout",
          "output_type": "stream",
          "text": [
            "[youtube] Extracting URL: https://www.youtube.com/watch?v=1AyT77LqJzQ\n",
            "[youtube] 1AyT77LqJzQ: Downloading webpage\n",
            "[youtube] 1AyT77LqJzQ: Downloading ios player API JSON\n",
            "[youtube] 1AyT77LqJzQ: Downloading android player API JSON\n"
          ]
        },
        {
          "name": "stderr",
          "output_type": "stream",
          "text": [
            "ERROR: [youtube] 1AyT77LqJzQ: Video unavailable\n"
          ]
        },
        {
          "name": "stdout",
          "output_type": "stream",
          "text": [
            "[youtube] Extracting URL: https://www.youtube.com/watch?v=SVWABYmFdhs\n",
            "[youtube] SVWABYmFdhs: Downloading webpage\n",
            "[youtube] SVWABYmFdhs: Downloading ios player API JSON\n",
            "[youtube] SVWABYmFdhs: Downloading android player API JSON\n",
            "[youtube] SVWABYmFdhs: Downloading m3u8 information\n",
            "[info] SVWABYmFdhs: Downloading 1 format(s): 609\n",
            "[download] video_7.mp4 has already been downloaded\n",
            "[download] 100% of  214.32KiB\n",
            "[VideoConvertor] Not converting media file \"video_7.mp4\"; already is in target format mp4\n",
            "Successfully downloaded video 7 from URL: https://www.youtube.com/watch?v=SVWABYmFdhs\n",
            "Extracted 118 frames from video 7.\n",
            "[youtube] Extracting URL: https://www.youtube.com/watch?v=CYx7qm62Zwo\n",
            "[youtube] CYx7qm62Zwo: Downloading webpage\n",
            "[youtube] CYx7qm62Zwo: Downloading ios player API JSON\n",
            "[youtube] CYx7qm62Zwo: Downloading android player API JSON\n",
            "[youtube] CYx7qm62Zwo: Downloading m3u8 information\n",
            "[info] CYx7qm62Zwo: Downloading 1 format(s): 298\n",
            "[download] video_8.mp4 has already been downloaded\n",
            "[download] 100% of  227.59KiB\n",
            "[VideoConvertor] Not converting media file \"video_8.mp4\"; already is in target format mp4\n",
            "Successfully downloaded video 8 from URL: https://www.youtube.com/watch?v=CYx7qm62Zwo\n",
            "Extracted 144 frames from video 8.\n",
            "[youtube] Extracting URL: https://www.youtube.com/watch?v=cJOyCgIKyeA\n",
            "[youtube] cJOyCgIKyeA: Downloading webpage\n",
            "[youtube] cJOyCgIKyeA: Downloading ios player API JSON\n",
            "[youtube] cJOyCgIKyeA: Downloading android player API JSON\n"
          ]
        },
        {
          "name": "stderr",
          "output_type": "stream",
          "text": [
            "ERROR: [youtube] cJOyCgIKyeA: Video unavailable\n"
          ]
        },
        {
          "name": "stdout",
          "output_type": "stream",
          "text": [
            "[youtube] Extracting URL: https://www.youtube.com/watch?v=HPz_C5XM4o4\n",
            "[youtube] HPz_C5XM4o4: Downloading webpage\n",
            "[youtube] HPz_C5XM4o4: Downloading ios player API JSON\n",
            "[youtube] HPz_C5XM4o4: Downloading android player API JSON\n",
            "[youtube] HPz_C5XM4o4: Downloading m3u8 information\n",
            "[youtube] HPz_C5XM4o4: Downloading MPD manifest\n",
            "[info] HPz_C5XM4o4: Downloading 1 format(s): 136\n",
            "[download] video_10.mp4 has already been downloaded\n",
            "[download] 100% of    1.75MiB\n",
            "[VideoConvertor] Not converting media file \"video_10.mp4\"; already is in target format mp4\n",
            "Successfully downloaded video 10 from URL: https://www.youtube.com/watch?v=HPz_C5XM4o4\n",
            "Extracted 205 frames from video 10.\n",
            "[youtube] Extracting URL: https://www.youtube.com/watch?v=HPz_C5XM4o4\n",
            "[youtube] HPz_C5XM4o4: Downloading webpage\n",
            "[youtube] HPz_C5XM4o4: Downloading ios player API JSON\n",
            "[youtube] HPz_C5XM4o4: Downloading android player API JSON\n",
            "[youtube] HPz_C5XM4o4: Downloading m3u8 information\n",
            "[youtube] HPz_C5XM4o4: Downloading MPD manifest\n",
            "[info] HPz_C5XM4o4: Downloading 1 format(s): 136\n",
            "[download] video_11.mp4 has already been downloaded\n",
            "[download] 100% of    1.75MiB\n",
            "[VideoConvertor] Not converting media file \"video_11.mp4\"; already is in target format mp4\n",
            "Successfully downloaded video 11 from URL: https://www.youtube.com/watch?v=HPz_C5XM4o4\n",
            "Extracted 205 frames from video 11.\n",
            "[youtube] Extracting URL: https://www.youtube.com/watch?v=HPz_C5XM4o4\n",
            "[youtube] HPz_C5XM4o4: Downloading webpage\n",
            "[youtube] HPz_C5XM4o4: Downloading ios player API JSON\n",
            "[youtube] HPz_C5XM4o4: Downloading android player API JSON\n",
            "[youtube] HPz_C5XM4o4: Downloading m3u8 information\n",
            "[youtube] HPz_C5XM4o4: Downloading MPD manifest\n",
            "[info] HPz_C5XM4o4: Downloading 1 format(s): 136\n",
            "[download] video_12.mp4 has already been downloaded\n",
            "[download] 100% of    1.75MiB\n",
            "[VideoConvertor] Not converting media file \"video_12.mp4\"; already is in target format mp4\n",
            "Successfully downloaded video 12 from URL: https://www.youtube.com/watch?v=HPz_C5XM4o4\n",
            "Extracted 205 frames from video 12.\n",
            "[youtube] Extracting URL: https://www.youtube.com/watch?v=S2cqitZ0qes\n",
            "[youtube] S2cqitZ0qes: Downloading webpage\n",
            "[youtube] S2cqitZ0qes: Downloading ios player API JSON\n",
            "[youtube] S2cqitZ0qes: Downloading android player API JSON\n",
            "[youtube] S2cqitZ0qes: Downloading m3u8 information\n",
            "[info] S2cqitZ0qes: Downloading 1 format(s): 135\n",
            "[download] video_13.mp4 has already been downloaded\n",
            "[download] 100% of  121.61KiB\n",
            "[VideoConvertor] Not converting media file \"video_13.mp4\"; already is in target format mp4\n",
            "Successfully downloaded video 13 from URL: https://www.youtube.com/watch?v=S2cqitZ0qes\n",
            "Extracted 75 frames from video 13.\n",
            "[generic] Extracting URL: www.youtube.com/watch?v=zqfcp6NRKpA\n"
          ]
        },
        {
          "name": "stderr",
          "output_type": "stream",
          "text": [
            "WARNING: [generic] The url doesn't specify the protocol, trying with http\n"
          ]
        },
        {
          "name": "stdout",
          "output_type": "stream",
          "text": [
            "[youtube] Extracting URL: http://www.youtube.com/watch?v=zqfcp6NRKpA\n",
            "[youtube] zqfcp6NRKpA: Downloading webpage\n",
            "[youtube] zqfcp6NRKpA: Downloading ios player API JSON\n",
            "[youtube] zqfcp6NRKpA: Downloading android player API JSON\n"
          ]
        },
        {
          "name": "stderr",
          "output_type": "stream",
          "text": [
            "ERROR: [youtube] zqfcp6NRKpA: Private video. Sign in if you've been granted access to this video\n"
          ]
        },
        {
          "name": "stdout",
          "output_type": "stream",
          "text": [
            "[generic] Extracting URL: www.youtube.com/watch?v=7y5Ye-2-ZBs\n"
          ]
        },
        {
          "name": "stderr",
          "output_type": "stream",
          "text": [
            "WARNING: [generic] The url doesn't specify the protocol, trying with http\n"
          ]
        },
        {
          "name": "stdout",
          "output_type": "stream",
          "text": [
            "[youtube] Extracting URL: http://www.youtube.com/watch?v=7y5Ye-2-ZBs\n",
            "[youtube] 7y5Ye-2-ZBs: Downloading webpage\n",
            "[youtube] 7y5Ye-2-ZBs: Downloading ios player API JSON\n",
            "[youtube] 7y5Ye-2-ZBs: Downloading android player API JSON\n"
          ]
        },
        {
          "name": "stderr",
          "output_type": "stream",
          "text": [
            "ERROR: [youtube] 7y5Ye-2-ZBs: Private video. Sign in if you've been granted access to this video\n"
          ]
        },
        {
          "name": "stdout",
          "output_type": "stream",
          "text": [
            "[youtube] Extracting URL: https://www.youtube.com/watch?v=I_QDeKcyvns\n",
            "[youtube] I_QDeKcyvns: Downloading webpage\n",
            "[youtube] I_QDeKcyvns: Downloading ios player API JSON\n",
            "[youtube] I_QDeKcyvns: Downloading android player API JSON\n",
            "[youtube] I_QDeKcyvns: Downloading m3u8 information\n",
            "[youtube] I_QDeKcyvns: Downloading MPD manifest\n",
            "[info] I_QDeKcyvns: Downloading 1 format(s): 270\n",
            "[download] video_16.mp4 has already been downloaded\n",
            "[download] 100% of  730.42KiB\n",
            "[VideoConvertor] Not converting media file \"video_16.mp4\"; already is in target format mp4\n",
            "Successfully downloaded video 16 from URL: https://www.youtube.com/watch?v=I_QDeKcyvns\n",
            "Extracted 115 frames from video 16.\n",
            "[youtube] Extracting URL: https://www.youtube.com/watch?v=WeAFuzYTdtU\n",
            "[youtube] WeAFuzYTdtU: Downloading webpage\n",
            "[youtube] WeAFuzYTdtU: Downloading ios player API JSON\n",
            "[youtube] WeAFuzYTdtU: Downloading android player API JSON\n",
            "[youtube] WeAFuzYTdtU: Downloading m3u8 information\n",
            "[info] WeAFuzYTdtU: Downloading 1 format(s): 606\n",
            "[download] video_17.mp4 has already been downloaded\n",
            "[download] 100% of    1.31MiB\n",
            "[VideoConvertor] Not converting media file \"video_17.mp4\"; already is in target format mp4\n",
            "Successfully downloaded video 17 from URL: https://www.youtube.com/watch?v=WeAFuzYTdtU\n",
            "Extracted 833 frames from video 17.\n",
            "[youtube] Extracting URL: https://www.youtube.com/watch?v=WeAFuzYTdtU\n",
            "[youtube] WeAFuzYTdtU: Downloading webpage\n",
            "[youtube] WeAFuzYTdtU: Downloading ios player API JSON\n",
            "[youtube] WeAFuzYTdtU: Downloading android player API JSON\n",
            "[youtube] WeAFuzYTdtU: Downloading m3u8 information\n",
            "[info] WeAFuzYTdtU: Downloading 1 format(s): 606\n",
            "[download] video_18.mp4 has already been downloaded\n",
            "[download] 100% of    1.31MiB\n",
            "[VideoConvertor] Not converting media file \"video_18.mp4\"; already is in target format mp4\n",
            "Successfully downloaded video 18 from URL: https://www.youtube.com/watch?v=WeAFuzYTdtU\n",
            "Extracted 833 frames from video 18.\n",
            "[youtube] Extracting URL: https://www.youtube.com/watch?v=WeAFuzYTdtU\n",
            "[youtube] WeAFuzYTdtU: Downloading webpage\n",
            "[youtube] WeAFuzYTdtU: Downloading ios player API JSON\n",
            "[youtube] WeAFuzYTdtU: Downloading android player API JSON\n",
            "[youtube] WeAFuzYTdtU: Downloading m3u8 information\n",
            "[info] WeAFuzYTdtU: Downloading 1 format(s): 606\n",
            "[download] video_19.mp4 has already been downloaded\n",
            "[download] 100% of    1.31MiB\n",
            "[VideoConvertor] Not converting media file \"video_19.mp4\"; already is in target format mp4\n",
            "Successfully downloaded video 19 from URL: https://www.youtube.com/watch?v=WeAFuzYTdtU\n",
            "Extracted 833 frames from video 19.\n",
            "[youtube] Extracting URL: https://www.youtube.com/watch?v=sKbKzPIaFNA\n",
            "[youtube] sKbKzPIaFNA: Downloading webpage\n",
            "[youtube] sKbKzPIaFNA: Downloading ios player API JSON\n",
            "[youtube] sKbKzPIaFNA: Downloading android player API JSON\n",
            "[youtube] sKbKzPIaFNA: Downloading m3u8 information\n",
            "[info] sKbKzPIaFNA: Downloading 1 format(s): 135\n",
            "[download] video_20.mp4 has already been downloaded\n",
            "[download] 100% of  116.80KiB\n",
            "[VideoConvertor] Not converting media file \"video_20.mp4\"; already is in target format mp4\n",
            "Successfully downloaded video 20 from URL: https://www.youtube.com/watch?v=sKbKzPIaFNA\n",
            "Extracted 75 frames from video 20.\n",
            "[youtube] Extracting URL: https://www.youtube.com/watch?v=fQ58eciJmCY\n",
            "[youtube] fQ58eciJmCY: Downloading webpage\n",
            "[youtube] fQ58eciJmCY: Downloading ios player API JSON\n",
            "[youtube] fQ58eciJmCY: Downloading android player API JSON\n",
            "[youtube] fQ58eciJmCY: Downloading MPD manifest\n",
            "[info] fQ58eciJmCY: Downloading 1 format(s): 133\n",
            "[download] video_21.mp4 has already been downloaded\n",
            "[download] 100% of   56.11KiB\n",
            "[VideoConvertor] Not converting media file \"video_21.mp4\"; already is in target format mp4\n",
            "Successfully downloaded video 21 from URL: https://www.youtube.com/watch?v=fQ58eciJmCY\n",
            "Extracted 70 frames from video 21.\n",
            "[youtube] Extracting URL: https://www.youtube.com/watch?v=GYWm0gdybFA\n",
            "[youtube] GYWm0gdybFA: Downloading webpage\n",
            "[youtube] GYWm0gdybFA: Downloading ios player API JSON\n",
            "[youtube] GYWm0gdybFA: Downloading android player API JSON\n",
            "[youtube] GYWm0gdybFA: Downloading m3u8 information\n",
            "[youtube] GYWm0gdybFA: Downloading MPD manifest\n",
            "[info] GYWm0gdybFA: Downloading 1 format(s): 136\n",
            "[download] video_22.mp4 has already been downloaded\n",
            "[download] 100% of  440.96KiB\n",
            "[VideoConvertor] Not converting media file \"video_22.mp4\"; already is in target format mp4\n",
            "Successfully downloaded video 22 from URL: https://www.youtube.com/watch?v=GYWm0gdybFA\n",
            "Extracted 112 frames from video 22.\n",
            "[youtube] Extracting URL: https://www.youtube.com/watch?v=PIfDfi4Qx60\n",
            "[youtube] PIfDfi4Qx60: Downloading webpage\n",
            "[youtube] PIfDfi4Qx60: Downloading ios player API JSON\n",
            "[youtube] PIfDfi4Qx60: Downloading android player API JSON\n",
            "[youtube] PIfDfi4Qx60: Downloading m3u8 information\n",
            "[info] PIfDfi4Qx60: Downloading 1 format(s): 137\n",
            "[download] video_23.mp4 has already been downloaded\n",
            "[download] 100% of  341.44KiB\n",
            "[VideoConvertor] Not converting media file \"video_23.mp4\"; already is in target format mp4\n",
            "Successfully downloaded video 23 from URL: https://www.youtube.com/watch?v=PIfDfi4Qx60\n",
            "Extracted 74 frames from video 23.\n",
            "[youtube] Extracting URL: https://www.youtube.com/watch?v=fv1nQoXRlsI\n",
            "[youtube] fv1nQoXRlsI: Downloading webpage\n",
            "[youtube] fv1nQoXRlsI: Downloading ios player API JSON\n",
            "[youtube] fv1nQoXRlsI: Downloading android player API JSON\n",
            "[youtube] fv1nQoXRlsI: Downloading m3u8 information\n",
            "[info] fv1nQoXRlsI: Downloading 1 format(s): 135\n",
            "[download] video_24.mp4 has already been downloaded\n",
            "[download] 100% of   74.96KiB\n",
            "[VideoConvertor] Not converting media file \"video_24.mp4\"; already is in target format mp4\n",
            "Successfully downloaded video 24 from URL: https://www.youtube.com/watch?v=fv1nQoXRlsI\n",
            "Extracted 50 frames from video 24.\n",
            "[youtube] Extracting URL: https://www.youtube.com/watch?v=iJuIO4n0-VU\n",
            "[youtube] iJuIO4n0-VU: Downloading webpage\n",
            "[youtube] iJuIO4n0-VU: Downloading ios player API JSON\n",
            "[youtube] iJuIO4n0-VU: Downloading android player API JSON\n",
            "[youtube] iJuIO4n0-VU: Downloading m3u8 information\n",
            "[youtube] iJuIO4n0-VU: Downloading MPD manifest\n",
            "[info] iJuIO4n0-VU: Downloading 1 format(s): 136\n",
            "[download] video_25.mp4 has already been downloaded\n",
            "[download] 100% of  957.86KiB\n",
            "[VideoConvertor] Not converting media file \"video_25.mp4\"; already is in target format mp4\n",
            "Successfully downloaded video 25 from URL: https://www.youtube.com/watch?v=iJuIO4n0-VU\n",
            "Extracted 109 frames from video 25.\n",
            "[youtube] Extracting URL: https://www.youtube.com/watch?v=7G6B6kaMjb4\n",
            "[youtube] 7G6B6kaMjb4: Downloading webpage\n",
            "[youtube] 7G6B6kaMjb4: Downloading ios player API JSON\n",
            "[youtube] 7G6B6kaMjb4: Downloading android player API JSON\n",
            "[youtube] 7G6B6kaMjb4: Downloading m3u8 information\n",
            "[youtube] 7G6B6kaMjb4: Downloading MPD manifest\n",
            "[info] 7G6B6kaMjb4: Downloading 1 format(s): 231\n",
            "[download] video_26.mp4 has already been downloaded\n",
            "[download] 100% of   79.78KiB\n",
            "[VideoConvertor] Not converting media file \"video_26.mp4\"; already is in target format mp4\n",
            "Successfully downloaded video 26 from URL: https://www.youtube.com/watch?v=7G6B6kaMjb4\n",
            "Extracted 51 frames from video 26.\n",
            "[youtube] Extracting URL: https://www.youtube.com/watch?v=XCiFsGrb_Nk\n",
            "[youtube] XCiFsGrb_Nk: Downloading webpage\n",
            "[youtube] XCiFsGrb_Nk: Downloading ios player API JSON\n",
            "[youtube] XCiFsGrb_Nk: Downloading android player API JSON\n",
            "[youtube] XCiFsGrb_Nk: Downloading m3u8 information\n",
            "[info] XCiFsGrb_Nk: Downloading 1 format(s): 137\n",
            "[download] video_27.mp4 has already been downloaded\n",
            "[download] 100% of  303.08KiB\n",
            "[VideoConvertor] Not converting media file \"video_27.mp4\"; already is in target format mp4\n",
            "Successfully downloaded video 27 from URL: https://www.youtube.com/watch?v=XCiFsGrb_Nk\n",
            "Extracted 77 frames from video 27.\n",
            "[youtube] Extracting URL: https://www.youtube.com/watch?v=NNZD9RAgL4w\n",
            "[youtube] NNZD9RAgL4w: Downloading webpage\n",
            "[youtube] NNZD9RAgL4w: Downloading ios player API JSON\n",
            "[youtube] NNZD9RAgL4w: Downloading android player API JSON\n",
            "[youtube] NNZD9RAgL4w: Downloading m3u8 information\n",
            "[info] NNZD9RAgL4w: Downloading 1 format(s): 137\n",
            "[download] video_28.mp4 has already been downloaded\n",
            "[download] 100% of  498.63KiB\n",
            "[VideoConvertor] Not converting media file \"video_28.mp4\"; already is in target format mp4\n",
            "Successfully downloaded video 28 from URL: https://www.youtube.com/watch?v=NNZD9RAgL4w\n",
            "Extracted 88 frames from video 28.\n",
            "[generic] Extracting URL: www.youtube.com/watch?v=rYW7VFPi9_w\n"
          ]
        },
        {
          "name": "stderr",
          "output_type": "stream",
          "text": [
            "WARNING: [generic] The url doesn't specify the protocol, trying with http\n"
          ]
        },
        {
          "name": "stdout",
          "output_type": "stream",
          "text": [
            "[youtube] Extracting URL: http://www.youtube.com/watch?v=rYW7VFPi9_w\n",
            "[youtube] rYW7VFPi9_w: Downloading webpage\n",
            "[youtube] rYW7VFPi9_w: Downloading ios player API JSON\n",
            "[youtube] rYW7VFPi9_w: Downloading android player API JSON\n"
          ]
        },
        {
          "name": "stderr",
          "output_type": "stream",
          "text": [
            "ERROR: [youtube] rYW7VFPi9_w: Private video. Sign in if you've been granted access to this video\n"
          ]
        },
        {
          "name": "stdout",
          "output_type": "stream",
          "text": [
            "[youtube] Extracting URL: https://www.youtube.com/watch?v=bUezx9Zp16E\n",
            "[youtube] bUezx9Zp16E: Downloading webpage\n",
            "[youtube] bUezx9Zp16E: Downloading ios player API JSON\n",
            "[youtube] bUezx9Zp16E: Downloading android player API JSON\n",
            "[youtube] bUezx9Zp16E: Downloading m3u8 information\n",
            "[youtube] bUezx9Zp16E: Downloading MPD manifest\n",
            "[info] bUezx9Zp16E: Downloading 1 format(s): 311\n",
            "[download] video_30.mp4 has already been downloaded\n",
            "[download] 100% of  555.19KiB\n",
            "[VideoConvertor] Not converting media file \"video_30.mp4\"; already is in target format mp4\n",
            "Successfully downloaded video 30 from URL: https://www.youtube.com/watch?v=bUezx9Zp16E\n",
            "Extracted 144 frames from video 30.\n",
            "[youtube] Extracting URL: https://www.youtube.com/watch?v=jQb9NL9_S6U\n",
            "[youtube] jQb9NL9_S6U: Downloading webpage\n",
            "[youtube] jQb9NL9_S6U: Downloading ios player API JSON\n",
            "[youtube] jQb9NL9_S6U: Downloading android player API JSON\n",
            "[youtube] jQb9NL9_S6U: Downloading m3u8 information\n",
            "[youtube] jQb9NL9_S6U: Downloading MPD manifest\n",
            "[info] jQb9NL9_S6U: Downloading 1 format(s): 231\n",
            "[download] video_31.mp4 has already been downloaded\n",
            "[download] 100% of   37.10MiB\n",
            "[VideoConvertor] Not converting media file \"video_31.mp4\"; already is in target format mp4\n",
            "Successfully downloaded video 31 from URL: https://www.youtube.com/watch?v=jQb9NL9_S6U\n"
          ]
        }
      ],
      "source": [
        "DATA_PATH = \"/content/drive/My Drive/Colab Notebooks/MS-ASL/asl_dataset/\"\n",
        "SEQUENCE_LENGTH = 15\n",
        "private_videos = []  # List to store details of private videos\n",
        "IMG_HEIGHT = 224\n",
        "IMG_WIDTH = 224\n",
        "\n",
        "# Modify preprocess_data to save frames to disk and process all data entries\n",
        "def preprocess_and_save_all_data(data, data_path=DATA_PATH):\n",
        "    label_encoder = LabelEncoder()\n",
        "    labels = [item['text'] for item in data]\n",
        "    encoded_labels = label_encoder.fit_transform(labels)\n",
        "\n",
        "    if not os.path.exists(data_path):\n",
        "        os.makedirs(data_path)\n",
        "\n",
        "    for idx, item in enumerate(data):\n",
        "        video_filename = f\"video_{idx}.mp4\"\n",
        "        try:\n",
        "            download_clip(item['url'], video_filename)\n",
        "            print(f\"Successfully downloaded video {idx} from URL: {item['url']}\")\n",
        "\n",
        "            frames = extract_frames(video_filename)\n",
        "            print(f\"Extracted {len(frames)} frames from video {idx}.\")\n",
        "            frames = [cv2.resize(frame, (IMG_HEIGHT, IMG_WIDTH)) for frame in frames]\n",
        "            frames = [preprocess_input(frame) for frame in frames]\n",
        "\n",
        "            # Save frames to disk\n",
        "            class_dir = os.path.join(data_path, item['text'])\n",
        "            video_dir = os.path.join(class_dir, f\"video_{idx}\")\n",
        "            if not os.path.exists(video_dir):\n",
        "                os.makedirs(video_dir)\n",
        "            for frame_idx, frame in enumerate(frames):\n",
        "                frame_path = os.path.join(video_dir, f\"frame_{frame_idx}.jpg\")\n",
        "                cv2.imwrite(frame_path, frame)\n",
        "                #print(\"Frame saved\")\n",
        "\n",
        "        except Exception as e:\n",
        "            if \"Private video\" in str(e):\n",
        "                private_videos.append(item['url'])  # Log the URL of the private video\n",
        "            continue  # Skip to the next video\n",
        "\n",
        "preprocess_and_save_all_data(train_data)\n",
        "\n",
        "\n"
      ]
    },
    {
      "cell_type": "code",
      "execution_count": null,
      "metadata": {
        "colab": {
          "base_uri": "https://localhost:8080/",
          "height": 1000
        },
        "id": "J3LVaEIKqwsK",
        "outputId": "c111ddbd-dcc5-462a-b1fc-4b0fc66c64e3"
      },
      "outputs": [
        {
          "name": "stdout",
          "output_type": "stream",
          "text": [
            "[youtube] Extracting URL: https://www.youtube.com/watch?v=C37R_Ix8-qs\n",
            "[youtube] C37R_Ix8-qs: Downloading webpage\n",
            "[youtube] C37R_Ix8-qs: Downloading ios player API JSON\n",
            "[youtube] C37R_Ix8-qs: Downloading android player API JSON\n",
            "[youtube] C37R_Ix8-qs: Downloading m3u8 information\n",
            "[info] C37R_Ix8-qs: Downloading 1 format(s): 137\n",
            "[download] video_0.mp4 has already been downloaded\n",
            "[download] 100% of  417.79KiB\n",
            "[VideoConvertor] Not converting media file \"video_0.mp4\"; already is in target format mp4\n",
            "Successfully downloaded video 0 from URL: https://www.youtube.com/watch?v=C37R_Ix8-qs\n",
            "Extracted 85 frames from video 0.\n",
            "[youtube] Extracting URL: https://www.youtube.com/watch?v=PIsUJl8BN_I\n",
            "[youtube] PIsUJl8BN_I: Downloading webpage\n",
            "[youtube] PIsUJl8BN_I: Downloading ios player API JSON\n",
            "[youtube] PIsUJl8BN_I: Downloading android player API JSON\n",
            "[youtube] PIsUJl8BN_I: Downloading m3u8 information\n",
            "[info] PIsUJl8BN_I: Downloading 1 format(s): 135\n",
            "[download] video_1.mp4 has already been downloaded\n",
            "[download] 100% of  112.92KiB\n",
            "[VideoConvertor] Not converting media file \"video_1.mp4\"; already is in target format mp4\n",
            "Successfully downloaded video 1 from URL: https://www.youtube.com/watch?v=PIsUJl8BN_I\n",
            "Extracted 76 frames from video 1.\n",
            "[generic] Extracting URL: www.youtube.com/watch?v=9FdHlMOnVjg\n"
          ]
        },
        {
          "name": "stderr",
          "output_type": "stream",
          "text": [
            "WARNING: [generic] The url doesn't specify the protocol, trying with http\n"
          ]
        },
        {
          "name": "stdout",
          "output_type": "stream",
          "text": [
            "[youtube] Extracting URL: http://www.youtube.com/watch?v=9FdHlMOnVjg\n",
            "[youtube] 9FdHlMOnVjg: Downloading webpage\n",
            "[youtube] 9FdHlMOnVjg: Downloading ios player API JSON\n",
            "[youtube] 9FdHlMOnVjg: Downloading android player API JSON\n"
          ]
        },
        {
          "name": "stderr",
          "output_type": "stream",
          "text": [
            "ERROR: [youtube] 9FdHlMOnVjg: Private video. Sign in if you've been granted access to this video\n"
          ]
        },
        {
          "name": "stdout",
          "output_type": "stream",
          "text": [
            "[youtube] Extracting URL: https://www.youtube.com/watch?v=J7tP98oDxqE\n",
            "[youtube] J7tP98oDxqE: Downloading webpage\n",
            "[youtube] J7tP98oDxqE: Downloading ios player API JSON\n",
            "[youtube] J7tP98oDxqE: Downloading android player API JSON\n",
            "[youtube] J7tP98oDxqE: Downloading m3u8 information\n",
            "[youtube] J7tP98oDxqE: Downloading MPD manifest\n",
            "[info] J7tP98oDxqE: Downloading 1 format(s): 135\n",
            "[download] video_3.mp4 has already been downloaded\n",
            "[download] 100% of   81.88KiB\n",
            "[VideoConvertor] Not converting media file \"video_3.mp4\"; already is in target format mp4\n",
            "Successfully downloaded video 3 from URL: https://www.youtube.com/watch?v=J7tP98oDxqE\n",
            "Extracted 68 frames from video 3.\n",
            "[generic] Extracting URL: www.youtube.com/watch?v=N2mG9ZKjrGA\n"
          ]
        },
        {
          "name": "stderr",
          "output_type": "stream",
          "text": [
            "WARNING: [generic] The url doesn't specify the protocol, trying with http\n"
          ]
        },
        {
          "name": "stdout",
          "output_type": "stream",
          "text": [
            "[youtube] Extracting URL: http://www.youtube.com/watch?v=N2mG9ZKjrGA\n",
            "[youtube] N2mG9ZKjrGA: Downloading webpage\n",
            "[youtube] N2mG9ZKjrGA: Downloading ios player API JSON\n",
            "[youtube] N2mG9ZKjrGA: Downloading android player API JSON\n",
            "[youtube] N2mG9ZKjrGA: Downloading m3u8 information\n",
            "[info] N2mG9ZKjrGA: Downloading 1 format(s): 137\n",
            "[download] video_4.mp4 has already been downloaded\n",
            "[download] 100% of  400.60KiB\n",
            "[VideoConvertor] Not converting media file \"video_4.mp4\"; already is in target format mp4\n",
            "Successfully downloaded video 4 from URL: www.youtube.com/watch?v=N2mG9ZKjrGA\n",
            "Extracted 77 frames from video 4.\n",
            "[youtube] Extracting URL: https://www.youtube.com/watch?v=1AyT77LqJzQ\n",
            "[youtube] 1AyT77LqJzQ: Downloading webpage\n",
            "[youtube] 1AyT77LqJzQ: Downloading ios player API JSON\n",
            "[youtube] 1AyT77LqJzQ: Downloading android player API JSON\n"
          ]
        },
        {
          "name": "stderr",
          "output_type": "stream",
          "text": [
            "ERROR: [youtube] 1AyT77LqJzQ: Video unavailable\n"
          ]
        },
        {
          "name": "stdout",
          "output_type": "stream",
          "text": [
            "[youtube] Extracting URL: https://www.youtube.com/watch?v=1AyT77LqJzQ\n",
            "[youtube] 1AyT77LqJzQ: Downloading webpage\n",
            "[youtube] 1AyT77LqJzQ: Downloading ios player API JSON\n",
            "[youtube] 1AyT77LqJzQ: Downloading android player API JSON\n"
          ]
        },
        {
          "name": "stderr",
          "output_type": "stream",
          "text": [
            "ERROR: [youtube] 1AyT77LqJzQ: Video unavailable\n"
          ]
        },
        {
          "name": "stdout",
          "output_type": "stream",
          "text": [
            "[youtube] Extracting URL: https://www.youtube.com/watch?v=SVWABYmFdhs\n",
            "[youtube] SVWABYmFdhs: Downloading webpage\n",
            "[youtube] SVWABYmFdhs: Downloading ios player API JSON\n",
            "[youtube] SVWABYmFdhs: Downloading android player API JSON\n",
            "[youtube] SVWABYmFdhs: Downloading m3u8 information\n",
            "[info] SVWABYmFdhs: Downloading 1 format(s): 609\n",
            "[download] video_7.mp4 has already been downloaded\n",
            "[download] 100% of  214.32KiB\n",
            "[VideoConvertor] Not converting media file \"video_7.mp4\"; already is in target format mp4\n",
            "Successfully downloaded video 7 from URL: https://www.youtube.com/watch?v=SVWABYmFdhs\n",
            "Extracted 118 frames from video 7.\n",
            "[youtube] Extracting URL: https://www.youtube.com/watch?v=CYx7qm62Zwo\n",
            "[youtube] CYx7qm62Zwo: Downloading webpage\n",
            "[youtube] CYx7qm62Zwo: Downloading ios player API JSON\n",
            "[youtube] CYx7qm62Zwo: Downloading android player API JSON\n",
            "[youtube] CYx7qm62Zwo: Downloading m3u8 information\n",
            "[info] CYx7qm62Zwo: Downloading 1 format(s): 298\n",
            "[download] video_8.mp4 has already been downloaded\n",
            "[download] 100% of  227.59KiB\n",
            "[VideoConvertor] Not converting media file \"video_8.mp4\"; already is in target format mp4\n",
            "Successfully downloaded video 8 from URL: https://www.youtube.com/watch?v=CYx7qm62Zwo\n",
            "Extracted 144 frames from video 8.\n",
            "[youtube] Extracting URL: https://www.youtube.com/watch?v=cJOyCgIKyeA\n",
            "[youtube] cJOyCgIKyeA: Downloading webpage\n",
            "[youtube] cJOyCgIKyeA: Downloading ios player API JSON\n",
            "[youtube] cJOyCgIKyeA: Downloading android player API JSON\n"
          ]
        },
        {
          "name": "stderr",
          "output_type": "stream",
          "text": [
            "ERROR: [youtube] cJOyCgIKyeA: Video unavailable\n"
          ]
        },
        {
          "name": "stdout",
          "output_type": "stream",
          "text": [
            "[youtube] Extracting URL: https://www.youtube.com/watch?v=HPz_C5XM4o4\n",
            "[youtube] HPz_C5XM4o4: Downloading webpage\n",
            "[youtube] HPz_C5XM4o4: Downloading ios player API JSON\n",
            "[youtube] HPz_C5XM4o4: Downloading android player API JSON\n",
            "[youtube] HPz_C5XM4o4: Downloading m3u8 information\n",
            "[youtube] HPz_C5XM4o4: Downloading MPD manifest\n",
            "[info] HPz_C5XM4o4: Downloading 1 format(s): 136\n",
            "[download] video_10.mp4 has already been downloaded\n",
            "[download] 100% of    1.75MiB\n",
            "[VideoConvertor] Not converting media file \"video_10.mp4\"; already is in target format mp4\n",
            "Successfully downloaded video 10 from URL: https://www.youtube.com/watch?v=HPz_C5XM4o4\n",
            "Extracted 205 frames from video 10.\n",
            "[youtube] Extracting URL: https://www.youtube.com/watch?v=HPz_C5XM4o4\n",
            "[youtube] HPz_C5XM4o4: Downloading webpage\n",
            "[youtube] HPz_C5XM4o4: Downloading ios player API JSON\n",
            "[youtube] HPz_C5XM4o4: Downloading android player API JSON\n",
            "[youtube] HPz_C5XM4o4: Downloading m3u8 information\n",
            "[youtube] HPz_C5XM4o4: Downloading MPD manifest\n",
            "[info] HPz_C5XM4o4: Downloading 1 format(s): 136\n",
            "[download] video_11.mp4 has already been downloaded\n",
            "[download] 100% of    1.75MiB\n",
            "[VideoConvertor] Not converting media file \"video_11.mp4\"; already is in target format mp4\n",
            "Successfully downloaded video 11 from URL: https://www.youtube.com/watch?v=HPz_C5XM4o4\n",
            "Extracted 205 frames from video 11.\n",
            "[youtube] Extracting URL: https://www.youtube.com/watch?v=HPz_C5XM4o4\n",
            "[youtube] HPz_C5XM4o4: Downloading webpage\n",
            "[youtube] HPz_C5XM4o4: Downloading ios player API JSON\n",
            "[youtube] HPz_C5XM4o4: Downloading android player API JSON\n",
            "[youtube] HPz_C5XM4o4: Downloading m3u8 information\n",
            "[youtube] HPz_C5XM4o4: Downloading MPD manifest\n",
            "[info] HPz_C5XM4o4: Downloading 1 format(s): 136\n",
            "[download] video_12.mp4 has already been downloaded\n",
            "[download] 100% of    1.75MiB\n",
            "[VideoConvertor] Not converting media file \"video_12.mp4\"; already is in target format mp4\n",
            "Successfully downloaded video 12 from URL: https://www.youtube.com/watch?v=HPz_C5XM4o4\n",
            "Extracted 205 frames from video 12.\n",
            "[youtube] Extracting URL: https://www.youtube.com/watch?v=S2cqitZ0qes\n",
            "[youtube] S2cqitZ0qes: Downloading webpage\n",
            "[youtube] S2cqitZ0qes: Downloading ios player API JSON\n",
            "[youtube] S2cqitZ0qes: Downloading android player API JSON\n",
            "[youtube] S2cqitZ0qes: Downloading m3u8 information\n",
            "[info] S2cqitZ0qes: Downloading 1 format(s): 135\n",
            "[download] video_13.mp4 has already been downloaded\n",
            "[download] 100% of  121.61KiB\n",
            "[VideoConvertor] Not converting media file \"video_13.mp4\"; already is in target format mp4\n",
            "Successfully downloaded video 13 from URL: https://www.youtube.com/watch?v=S2cqitZ0qes\n",
            "Extracted 75 frames from video 13.\n",
            "[generic] Extracting URL: www.youtube.com/watch?v=zqfcp6NRKpA\n"
          ]
        },
        {
          "name": "stderr",
          "output_type": "stream",
          "text": [
            "WARNING: [generic] The url doesn't specify the protocol, trying with http\n"
          ]
        },
        {
          "name": "stdout",
          "output_type": "stream",
          "text": [
            "[youtube] Extracting URL: http://www.youtube.com/watch?v=zqfcp6NRKpA\n",
            "[youtube] zqfcp6NRKpA: Downloading webpage\n",
            "[youtube] zqfcp6NRKpA: Downloading ios player API JSON\n",
            "[youtube] zqfcp6NRKpA: Downloading android player API JSON\n"
          ]
        },
        {
          "name": "stderr",
          "output_type": "stream",
          "text": [
            "ERROR: [youtube] zqfcp6NRKpA: Private video. Sign in if you've been granted access to this video\n"
          ]
        },
        {
          "name": "stdout",
          "output_type": "stream",
          "text": [
            "[generic] Extracting URL: www.youtube.com/watch?v=7y5Ye-2-ZBs\n"
          ]
        },
        {
          "name": "stderr",
          "output_type": "stream",
          "text": [
            "WARNING: [generic] The url doesn't specify the protocol, trying with http\n"
          ]
        },
        {
          "name": "stdout",
          "output_type": "stream",
          "text": [
            "[youtube] Extracting URL: http://www.youtube.com/watch?v=7y5Ye-2-ZBs\n",
            "[youtube] 7y5Ye-2-ZBs: Downloading webpage\n",
            "[youtube] 7y5Ye-2-ZBs: Downloading ios player API JSON\n",
            "[youtube] 7y5Ye-2-ZBs: Downloading android player API JSON\n"
          ]
        },
        {
          "name": "stderr",
          "output_type": "stream",
          "text": [
            "ERROR: [youtube] 7y5Ye-2-ZBs: Private video. Sign in if you've been granted access to this video\n"
          ]
        },
        {
          "name": "stdout",
          "output_type": "stream",
          "text": [
            "[youtube] Extracting URL: https://www.youtube.com/watch?v=I_QDeKcyvns\n",
            "[youtube] I_QDeKcyvns: Downloading webpage\n",
            "[youtube] I_QDeKcyvns: Downloading ios player API JSON\n",
            "[youtube] I_QDeKcyvns: Downloading android player API JSON\n",
            "[youtube] I_QDeKcyvns: Downloading m3u8 information\n",
            "[youtube] I_QDeKcyvns: Downloading MPD manifest\n",
            "[info] I_QDeKcyvns: Downloading 1 format(s): 270\n",
            "[download] video_16.mp4 has already been downloaded\n",
            "[download] 100% of  730.42KiB\n",
            "[VideoConvertor] Not converting media file \"video_16.mp4\"; already is in target format mp4\n",
            "Successfully downloaded video 16 from URL: https://www.youtube.com/watch?v=I_QDeKcyvns\n",
            "Extracted 115 frames from video 16.\n",
            "[youtube] Extracting URL: https://www.youtube.com/watch?v=WeAFuzYTdtU\n",
            "[youtube] WeAFuzYTdtU: Downloading webpage\n",
            "[youtube] WeAFuzYTdtU: Downloading ios player API JSON\n",
            "[youtube] WeAFuzYTdtU: Downloading android player API JSON\n",
            "[youtube] WeAFuzYTdtU: Downloading m3u8 information\n",
            "[info] WeAFuzYTdtU: Downloading 1 format(s): 606\n",
            "[download] video_17.mp4 has already been downloaded\n",
            "[download] 100% of    1.31MiB\n",
            "[VideoConvertor] Not converting media file \"video_17.mp4\"; already is in target format mp4\n",
            "Successfully downloaded video 17 from URL: https://www.youtube.com/watch?v=WeAFuzYTdtU\n",
            "Extracted 833 frames from video 17.\n",
            "[youtube] Extracting URL: https://www.youtube.com/watch?v=WeAFuzYTdtU\n",
            "[youtube] WeAFuzYTdtU: Downloading webpage\n",
            "[youtube] WeAFuzYTdtU: Downloading ios player API JSON\n",
            "[youtube] WeAFuzYTdtU: Downloading android player API JSON\n",
            "[youtube] WeAFuzYTdtU: Downloading m3u8 information\n",
            "[info] WeAFuzYTdtU: Downloading 1 format(s): 606\n",
            "[download] video_18.mp4 has already been downloaded\n",
            "[download] 100% of    1.31MiB\n",
            "[VideoConvertor] Not converting media file \"video_18.mp4\"; already is in target format mp4\n",
            "Successfully downloaded video 18 from URL: https://www.youtube.com/watch?v=WeAFuzYTdtU\n",
            "Extracted 833 frames from video 18.\n",
            "[youtube] Extracting URL: https://www.youtube.com/watch?v=WeAFuzYTdtU\n",
            "[youtube] WeAFuzYTdtU: Downloading webpage\n",
            "[youtube] WeAFuzYTdtU: Downloading ios player API JSON\n",
            "[youtube] WeAFuzYTdtU: Downloading android player API JSON\n",
            "[youtube] WeAFuzYTdtU: Downloading m3u8 information\n",
            "[info] WeAFuzYTdtU: Downloading 1 format(s): 606\n",
            "[download] video_19.mp4 has already been downloaded\n",
            "[download] 100% of    1.31MiB\n",
            "[VideoConvertor] Not converting media file \"video_19.mp4\"; already is in target format mp4\n",
            "Successfully downloaded video 19 from URL: https://www.youtube.com/watch?v=WeAFuzYTdtU\n",
            "Extracted 833 frames from video 19.\n",
            "[youtube] Extracting URL: https://www.youtube.com/watch?v=sKbKzPIaFNA\n",
            "[youtube] sKbKzPIaFNA: Downloading webpage\n",
            "[youtube] sKbKzPIaFNA: Downloading ios player API JSON\n",
            "[youtube] sKbKzPIaFNA: Downloading android player API JSON\n",
            "[youtube] sKbKzPIaFNA: Downloading m3u8 information\n",
            "[info] sKbKzPIaFNA: Downloading 1 format(s): 135\n",
            "[download] video_20.mp4 has already been downloaded\n",
            "[download] 100% of  116.80KiB\n",
            "[VideoConvertor] Not converting media file \"video_20.mp4\"; already is in target format mp4\n",
            "Successfully downloaded video 20 from URL: https://www.youtube.com/watch?v=sKbKzPIaFNA\n",
            "Extracted 75 frames from video 20.\n",
            "[youtube] Extracting URL: https://www.youtube.com/watch?v=fQ58eciJmCY\n",
            "[youtube] fQ58eciJmCY: Downloading webpage\n",
            "[youtube] fQ58eciJmCY: Downloading ios player API JSON\n",
            "[youtube] fQ58eciJmCY: Downloading android player API JSON\n",
            "[youtube] fQ58eciJmCY: Downloading MPD manifest\n",
            "[info] fQ58eciJmCY: Downloading 1 format(s): 133\n",
            "[download] video_21.mp4 has already been downloaded\n",
            "[download] 100% of   56.11KiB\n",
            "[VideoConvertor] Not converting media file \"video_21.mp4\"; already is in target format mp4\n",
            "Successfully downloaded video 21 from URL: https://www.youtube.com/watch?v=fQ58eciJmCY\n",
            "Extracted 70 frames from video 21.\n",
            "[youtube] Extracting URL: https://www.youtube.com/watch?v=GYWm0gdybFA\n",
            "[youtube] GYWm0gdybFA: Downloading webpage\n",
            "[youtube] GYWm0gdybFA: Downloading ios player API JSON\n",
            "[youtube] GYWm0gdybFA: Downloading android player API JSON\n",
            "[youtube] GYWm0gdybFA: Downloading m3u8 information\n",
            "[youtube] GYWm0gdybFA: Downloading MPD manifest\n",
            "[info] GYWm0gdybFA: Downloading 1 format(s): 136\n",
            "[download] video_22.mp4 has already been downloaded\n",
            "[download] 100% of  440.96KiB\n",
            "[VideoConvertor] Not converting media file \"video_22.mp4\"; already is in target format mp4\n",
            "Successfully downloaded video 22 from URL: https://www.youtube.com/watch?v=GYWm0gdybFA\n",
            "Extracted 112 frames from video 22.\n",
            "[youtube] Extracting URL: https://www.youtube.com/watch?v=PIfDfi4Qx60\n",
            "[youtube] PIfDfi4Qx60: Downloading webpage\n",
            "[youtube] PIfDfi4Qx60: Downloading ios player API JSON\n",
            "[youtube] PIfDfi4Qx60: Downloading android player API JSON\n",
            "[youtube] PIfDfi4Qx60: Downloading m3u8 information\n",
            "[info] PIfDfi4Qx60: Downloading 1 format(s): 137\n",
            "[download] video_23.mp4 has already been downloaded\n",
            "[download] 100% of  341.44KiB\n",
            "[VideoConvertor] Not converting media file \"video_23.mp4\"; already is in target format mp4\n",
            "Successfully downloaded video 23 from URL: https://www.youtube.com/watch?v=PIfDfi4Qx60\n",
            "Extracted 74 frames from video 23.\n",
            "[youtube] Extracting URL: https://www.youtube.com/watch?v=fv1nQoXRlsI\n",
            "[youtube] fv1nQoXRlsI: Downloading webpage\n",
            "[youtube] fv1nQoXRlsI: Downloading ios player API JSON\n",
            "[youtube] fv1nQoXRlsI: Downloading android player API JSON\n",
            "[youtube] fv1nQoXRlsI: Downloading m3u8 information\n",
            "[info] fv1nQoXRlsI: Downloading 1 format(s): 135\n",
            "[download] video_24.mp4 has already been downloaded\n",
            "[download] 100% of   74.96KiB\n",
            "[VideoConvertor] Not converting media file \"video_24.mp4\"; already is in target format mp4\n",
            "Successfully downloaded video 24 from URL: https://www.youtube.com/watch?v=fv1nQoXRlsI\n",
            "Extracted 50 frames from video 24.\n",
            "[youtube] Extracting URL: https://www.youtube.com/watch?v=iJuIO4n0-VU\n",
            "[youtube] iJuIO4n0-VU: Downloading webpage\n",
            "[youtube] iJuIO4n0-VU: Downloading ios player API JSON\n",
            "[youtube] iJuIO4n0-VU: Downloading android player API JSON\n",
            "[youtube] iJuIO4n0-VU: Downloading m3u8 information\n",
            "[youtube] iJuIO4n0-VU: Downloading MPD manifest\n",
            "[info] iJuIO4n0-VU: Downloading 1 format(s): 136\n",
            "[download] video_25.mp4 has already been downloaded\n",
            "[download] 100% of  957.86KiB\n",
            "[VideoConvertor] Not converting media file \"video_25.mp4\"; already is in target format mp4\n",
            "Successfully downloaded video 25 from URL: https://www.youtube.com/watch?v=iJuIO4n0-VU\n",
            "Extracted 109 frames from video 25.\n"
          ]
        },
        {
          "ename": "KeyboardInterrupt",
          "evalue": "ignored",
          "output_type": "error",
          "traceback": [
            "\u001b[0;31m---------------------------------------------------------------------------\u001b[0m",
            "\u001b[0;31mKeyboardInterrupt\u001b[0m                         Traceback (most recent call last)",
            "\u001b[0;32m<ipython-input-69-103671b2da8c>\u001b[0m in \u001b[0;36m<cell line: 1>\u001b[0;34m()\u001b[0m\n\u001b[0;32m----> 1\u001b[0;31m \u001b[0mX\u001b[0m\u001b[0;34m,\u001b[0m \u001b[0my\u001b[0m\u001b[0;34m,\u001b[0m \u001b[0mlabel_encoder\u001b[0m \u001b[0;34m=\u001b[0m \u001b[0mpreprocess_and_save_all_data\u001b[0m\u001b[0;34m(\u001b[0m\u001b[0mtrain_data\u001b[0m\u001b[0;34m)\u001b[0m\u001b[0;34m\u001b[0m\u001b[0;34m\u001b[0m\u001b[0m\n\u001b[0m\u001b[1;32m      2\u001b[0m \u001b[0;34m\u001b[0m\u001b[0m\n\u001b[1;32m      3\u001b[0m \u001b[0;34m\u001b[0m\u001b[0m\n\u001b[1;32m      4\u001b[0m \u001b[0;32mdef\u001b[0m \u001b[0mload_data\u001b[0m\u001b[0;34m(\u001b[0m\u001b[0mdata_path\u001b[0m\u001b[0;34m)\u001b[0m\u001b[0;34m:\u001b[0m\u001b[0;34m\u001b[0m\u001b[0;34m\u001b[0m\u001b[0m\n\u001b[1;32m      5\u001b[0m     \u001b[0mX\u001b[0m\u001b[0;34m,\u001b[0m \u001b[0my\u001b[0m \u001b[0;34m=\u001b[0m \u001b[0;34m[\u001b[0m\u001b[0;34m]\u001b[0m\u001b[0;34m,\u001b[0m \u001b[0;34m[\u001b[0m\u001b[0;34m]\u001b[0m\u001b[0;34m\u001b[0m\u001b[0;34m\u001b[0m\u001b[0m\n",
            "\u001b[0;32m<ipython-input-68-e0021aad9a70>\u001b[0m in \u001b[0;36mpreprocess_and_save_all_data\u001b[0;34m(data, data_path)\u001b[0m\n\u001b[1;32m     32\u001b[0m             \u001b[0;32mfor\u001b[0m \u001b[0mframe_idx\u001b[0m\u001b[0;34m,\u001b[0m \u001b[0mframe\u001b[0m \u001b[0;32min\u001b[0m \u001b[0menumerate\u001b[0m\u001b[0;34m(\u001b[0m\u001b[0mframes\u001b[0m\u001b[0;34m)\u001b[0m\u001b[0;34m:\u001b[0m\u001b[0;34m\u001b[0m\u001b[0;34m\u001b[0m\u001b[0m\n\u001b[1;32m     33\u001b[0m                 \u001b[0mframe_path\u001b[0m \u001b[0;34m=\u001b[0m \u001b[0mos\u001b[0m\u001b[0;34m.\u001b[0m\u001b[0mpath\u001b[0m\u001b[0;34m.\u001b[0m\u001b[0mjoin\u001b[0m\u001b[0;34m(\u001b[0m\u001b[0mvideo_dir\u001b[0m\u001b[0;34m,\u001b[0m \u001b[0;34mf\"frame_{frame_idx}.jpg\"\u001b[0m\u001b[0;34m)\u001b[0m\u001b[0;34m\u001b[0m\u001b[0;34m\u001b[0m\u001b[0m\n\u001b[0;32m---> 34\u001b[0;31m                 \u001b[0mcv2\u001b[0m\u001b[0;34m.\u001b[0m\u001b[0mimwrite\u001b[0m\u001b[0;34m(\u001b[0m\u001b[0mframe_path\u001b[0m\u001b[0;34m,\u001b[0m \u001b[0mframe\u001b[0m\u001b[0;34m)\u001b[0m\u001b[0;34m\u001b[0m\u001b[0;34m\u001b[0m\u001b[0m\n\u001b[0m\u001b[1;32m     35\u001b[0m \u001b[0;34m\u001b[0m\u001b[0m\n\u001b[1;32m     36\u001b[0m             \u001b[0mX\u001b[0m\u001b[0;34m.\u001b[0m\u001b[0mappend\u001b[0m\u001b[0;34m(\u001b[0m\u001b[0mframes\u001b[0m\u001b[0;34m)\u001b[0m\u001b[0;34m\u001b[0m\u001b[0;34m\u001b[0m\u001b[0m\n",
            "\u001b[0;31mKeyboardInterrupt\u001b[0m: "
          ]
        }
      ],
      "source": [
        "\n",
        "\n",
        "def load_data(data_path):\n",
        "    X, y = [], []\n",
        "    classes = sorted([d for d in os.listdir(data_path) if os.path.isdir(os.path.join(data_path, d))])\n",
        "    label_encoder = LabelEncoder()\n",
        "    encoded_classes = label_encoder.fit_transform(classes)\n",
        "\n",
        "    for idx, class_name in enumerate(classes):\n",
        "        class_path = os.path.join(data_path, class_name)\n",
        "        videos = os.listdir(class_path)\n",
        "\n",
        "        for video_name in videos:\n",
        "            video_path = os.path.join(class_path, video_name)\n",
        "            frames = [os.path.join(video_path, frame) for frame in os.listdir(video_path) if frame.endswith('.jpg')]\n",
        "            frames = sorted(frames, key=lambda x: int(x.split('_')[-1].split('.')[0]))\n",
        "\n",
        "            # Load and preprocess frames\n",
        "            loaded_frames = [image.load_img(frame, target_size=(IMG_HEIGHT, IMG_WIDTH)) for frame in frames]\n",
        "            loaded_frames = [image.img_to_array(frame_img) for frame_img in loaded_frames]\n",
        "            loaded_frames = [preprocess_input(frame_arr) for frame_arr in loaded_frames]\n",
        "\n",
        "            # Create sequences\n",
        "            for i in range(len(loaded_frames) - SEQUENCE_LENGTH + 1):\n",
        "                X.append(loaded_frames[i:i+SEQUENCE_LENGTH])\n",
        "                y.append(encoded_classes[idx])\n",
        "\n",
        "    X = np.array(X)\n",
        "    y = to_categorical(y, num_classes=len(classes))\n",
        "\n",
        "    return X, y, label_encoder\n"
      ]
    },
    {
      "cell_type": "code",
      "execution_count": null,
      "metadata": {
        "colab": {
          "base_uri": "https://localhost:8080/",
          "height": 390
        },
        "id": "c-ihngb-qUkg",
        "outputId": "1be3ac0e-444f-4a75-e51b-4c05614e63ea"
      },
      "outputs": [
        {
          "name": "stdout",
          "output_type": "stream",
          "text": [
            "Downloading data from https://storage.googleapis.com/tensorflow/keras-applications/vgg16/vgg16_weights_tf_dim_ordering_tf_kernels_notop.h5\n",
            "58889256/58889256 [==============================] - 0s 0us/step\n"
          ]
        },
        {
          "ename": "ValueError",
          "evalue": "ignored",
          "output_type": "error",
          "traceback": [
            "\u001b[0;31m---------------------------------------------------------------------------\u001b[0m",
            "\u001b[0;31mValueError\u001b[0m                                Traceback (most recent call last)",
            "\u001b[0;32m<ipython-input-35-40d59130920f>\u001b[0m in \u001b[0;36m<cell line: 24>\u001b[0;34m()\u001b[0m\n\u001b[1;32m     22\u001b[0m \u001b[0mEPOCHS\u001b[0m \u001b[0;34m=\u001b[0m \u001b[0;36m20\u001b[0m\u001b[0;34m\u001b[0m\u001b[0;34m\u001b[0m\u001b[0m\n\u001b[1;32m     23\u001b[0m \u001b[0;34m\u001b[0m\u001b[0m\n\u001b[0;32m---> 24\u001b[0;31m \u001b[0mhistory\u001b[0m \u001b[0;34m=\u001b[0m \u001b[0mmodel\u001b[0m\u001b[0;34m.\u001b[0m\u001b[0mfit\u001b[0m\u001b[0;34m(\u001b[0m\u001b[0mX_train\u001b[0m\u001b[0;34m,\u001b[0m \u001b[0my_train\u001b[0m\u001b[0;34m,\u001b[0m \u001b[0mvalidation_data\u001b[0m\u001b[0;34m=\u001b[0m\u001b[0;34m(\u001b[0m\u001b[0mX_val\u001b[0m\u001b[0;34m,\u001b[0m \u001b[0my_val\u001b[0m\u001b[0;34m)\u001b[0m\u001b[0;34m,\u001b[0m \u001b[0mbatch_size\u001b[0m\u001b[0;34m=\u001b[0m\u001b[0mBATCH_SIZE\u001b[0m\u001b[0;34m,\u001b[0m \u001b[0mepochs\u001b[0m\u001b[0;34m=\u001b[0m\u001b[0mEPOCHS\u001b[0m\u001b[0;34m)\u001b[0m\u001b[0;34m\u001b[0m\u001b[0;34m\u001b[0m\u001b[0m\n\u001b[0m",
            "\u001b[0;32m/usr/local/lib/python3.10/dist-packages/keras/utils/traceback_utils.py\u001b[0m in \u001b[0;36merror_handler\u001b[0;34m(*args, **kwargs)\u001b[0m\n\u001b[1;32m     68\u001b[0m             \u001b[0;31m# To get the full stack trace, call:\u001b[0m\u001b[0;34m\u001b[0m\u001b[0;34m\u001b[0m\u001b[0m\n\u001b[1;32m     69\u001b[0m             \u001b[0;31m# `tf.debugging.disable_traceback_filtering()`\u001b[0m\u001b[0;34m\u001b[0m\u001b[0;34m\u001b[0m\u001b[0m\n\u001b[0;32m---> 70\u001b[0;31m             \u001b[0;32mraise\u001b[0m \u001b[0me\u001b[0m\u001b[0;34m.\u001b[0m\u001b[0mwith_traceback\u001b[0m\u001b[0;34m(\u001b[0m\u001b[0mfiltered_tb\u001b[0m\u001b[0;34m)\u001b[0m \u001b[0;32mfrom\u001b[0m \u001b[0;32mNone\u001b[0m\u001b[0;34m\u001b[0m\u001b[0;34m\u001b[0m\u001b[0m\n\u001b[0m\u001b[1;32m     71\u001b[0m         \u001b[0;32mfinally\u001b[0m\u001b[0;34m:\u001b[0m\u001b[0;34m\u001b[0m\u001b[0;34m\u001b[0m\u001b[0m\n\u001b[1;32m     72\u001b[0m             \u001b[0;32mdel\u001b[0m \u001b[0mfiltered_tb\u001b[0m\u001b[0;34m\u001b[0m\u001b[0;34m\u001b[0m\u001b[0m\n",
            "\u001b[0;32m/usr/local/lib/python3.10/dist-packages/tensorflow/python/framework/constant_op.py\u001b[0m in \u001b[0;36mconvert_to_eager_tensor\u001b[0;34m(value, ctx, dtype)\u001b[0m\n\u001b[1;32m    101\u001b[0m       \u001b[0mdtype\u001b[0m \u001b[0;34m=\u001b[0m \u001b[0mdtypes\u001b[0m\u001b[0;34m.\u001b[0m\u001b[0mas_dtype\u001b[0m\u001b[0;34m(\u001b[0m\u001b[0mdtype\u001b[0m\u001b[0;34m)\u001b[0m\u001b[0;34m.\u001b[0m\u001b[0mas_datatype_enum\u001b[0m\u001b[0;34m\u001b[0m\u001b[0;34m\u001b[0m\u001b[0m\n\u001b[1;32m    102\u001b[0m   \u001b[0mctx\u001b[0m\u001b[0;34m.\u001b[0m\u001b[0mensure_initialized\u001b[0m\u001b[0;34m(\u001b[0m\u001b[0;34m)\u001b[0m\u001b[0;34m\u001b[0m\u001b[0;34m\u001b[0m\u001b[0m\n\u001b[0;32m--> 103\u001b[0;31m   \u001b[0;32mreturn\u001b[0m \u001b[0mops\u001b[0m\u001b[0;34m.\u001b[0m\u001b[0mEagerTensor\u001b[0m\u001b[0;34m(\u001b[0m\u001b[0mvalue\u001b[0m\u001b[0;34m,\u001b[0m \u001b[0mctx\u001b[0m\u001b[0;34m.\u001b[0m\u001b[0mdevice_name\u001b[0m\u001b[0;34m,\u001b[0m \u001b[0mdtype\u001b[0m\u001b[0;34m)\u001b[0m\u001b[0;34m\u001b[0m\u001b[0;34m\u001b[0m\u001b[0m\n\u001b[0m\u001b[1;32m    104\u001b[0m \u001b[0;34m\u001b[0m\u001b[0m\n\u001b[1;32m    105\u001b[0m \u001b[0;34m\u001b[0m\u001b[0m\n",
            "\u001b[0;31mValueError\u001b[0m: Failed to convert a NumPy array to a Tensor (Unsupported object type list)."
          ]
        }
      ],
      "source": [
        "\n",
        "\n",
        "NUM_CLASSES = len(label_encoder.classes_)\n",
        "\n",
        "def create_model():\n",
        "    vgg_model = VGG16(weights='imagenet', include_top=False, input_shape=(IMG_HEIGHT, IMG_WIDTH, 3))\n",
        "    for layer in vgg_model.layers:\n",
        "        layer.trainable = False\n",
        "\n",
        "    input_layer = Input(shape=(SEQUENCE_LENGTH, IMG_HEIGHT, IMG_WIDTH, 3))\n",
        "    x = TimeDistributed(vgg_model)(input_layer)\n",
        "    x = TimeDistributed(Flatten())(x)\n",
        "    x = LSTM(256, activation='relu', return_sequences=False)(x)\n",
        "    output_layer = Dense(NUM_CLASSES, activation='softmax')(x)\n",
        "\n",
        "    model = Model(inputs=input_layer, outputs=output_layer)\n",
        "    model.compile(optimizer='adam', loss='categorical_crossentropy', metrics=['accuracy'])\n",
        "\n",
        "    return model\n",
        "\n",
        "model = create_model()\n",
        "\n",
        "BATCH_SIZE = 16\n",
        "EPOCHS = 20\n",
        "\n",
        "history = model.fit(X_train, y_train, validation_data=(X_val, y_val), batch_size=BATCH_SIZE, epochs=EPOCHS)\n"
      ]
    },
    {
      "cell_type": "code",
      "execution_count": null,
      "metadata": {
        "id": "NJ3oCDHRKxKZ"
      },
      "outputs": [],
      "source": []
    }
  ],
  "metadata": {
    "accelerator": "TPU",
    "colab": {
      "provenance": []
    },
    "kernelspec": {
      "display_name": "Python 3",
      "name": "python3"
    },
    "language_info": {
      "name": "python"
    }
  },
  "nbformat": 4,
  "nbformat_minor": 0
}
